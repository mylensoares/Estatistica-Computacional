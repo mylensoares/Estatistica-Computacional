{
 "cells": [
  {
   "cell_type": "code",
   "execution_count": 6,
   "metadata": {},
   "outputs": [
    {
     "name": "stderr",
     "output_type": "stream",
     "text": [
      "C:\\Users\\mylen\\AppData\\Local\\Temp\\ipykernel_12808\\11467667.py:7: FutureWarning: The error_bad_lines argument has been deprecated and will be removed in a future version. Use on_bad_lines in the future.\n",
      "\n",
      "\n",
      "  dados = pd.read_csv(caminho_arquivo_csv, delimiter=';', error_bad_lines=False)\n",
      "C:\\Users\\mylen\\AppData\\Local\\Temp\\ipykernel_12808\\11467667.py:7: DtypeWarning: Columns (7,8) have mixed types. Specify dtype option on import or set low_memory=False.\n",
      "  dados = pd.read_csv(caminho_arquivo_csv, delimiter=';', error_bad_lines=False)\n"
     ]
    }
   ],
   "source": [
    "import pandas as pd\n",
    "import numpy as np\n",
    "import math\n",
    "\n",
    "# Ler o arquivo CSV\n",
    "caminho_arquivo_csv = 'C:\\\\Users\\\\mylen\\\\OneDrive\\\\Documentos\\\\IFCE\\\\5 Semestre\\\\Estatística\\\\Trabalho N1\\\\CE pt 1.csv'\n",
    "dados = pd.read_csv(caminho_arquivo_csv, delimiter=';', error_bad_lines=False)\n",
    "# Exibir a tabela\n",
    "# dados\n"
   ]
  },
  {
   "cell_type": "code",
   "execution_count": 8,
   "metadata": {},
   "outputs": [],
   "source": [
    "# Lista todos os municipios presentes na tabela\n",
    "municipios_unicos = dados['paciente_endereco_nmMunicipio'].unique()\n",
    "\n",
    "# Tranforma em lista\n",
    "municipios_unicos_lista = list(municipios_unicos)\n",
    "\n",
    "# Exibe todos os municipios \n",
    "# municipios_unicos_lista"
   ]
  },
  {
   "cell_type": "code",
   "execution_count": 9,
   "metadata": {},
   "outputs": [],
   "source": [
    "# Filtrar os dados para pacientes do município de Altaneira que tomaram a vacina Pfizer\n",
    "filtro_altaneira_pfizer = (dados['paciente_endereco_nmMunicipio'] == 'ALTANEIRA') & (dados['vacina_fabricante_nome'] == 'PFIZER')\n",
    "\n",
    "# Aplicar o filtro aos dados\n",
    "tabela_filtrada = dados[filtro_altaneira_pfizer]\n",
    "\n",
    "# Exibe a tabela filtrada\n",
    "# pd.set_option('display.max_rows', None)\n",
    "# print(tabela_filtrada['paciente_idade'])"
   ]
  },
  {
   "cell_type": "code",
   "execution_count": 11,
   "metadata": {},
   "outputs": [
    {
     "name": "stdout",
     "output_type": "stream",
     "text": [
      "Número de classes estimado usando a Regra de Sturges: 11\n"
     ]
    }
   ],
   "source": [
    "# Ordena a tabela por idade de forma crescente\n",
    "tabela_filtrada = tabela_filtrada.sort_values(by='paciente_idade')\n",
    "\n",
    "# Calcular o tamanho da amostra\n",
    "tamanho_amostra = len(tabela_filtrada)\n",
    "\n",
    "# Calcular o número de classes usando a Regra de Sturges\n",
    "numero_classes = 1 + int(3.3 * np.log10(tamanho_amostra))\n",
    "\n",
    "# Exibir o número de classes estimado\n",
    "print(\"Número de classes estimado usando a Regra de Sturges:\", numero_classes)\n"
   ]
  },
  {
   "cell_type": "code",
   "execution_count": 12,
   "metadata": {},
   "outputs": [
    {
     "name": "stdout",
     "output_type": "stream",
     "text": [
      "11.0\n",
      "109.0\n",
      "Amplitude da idade dos pacientes de Altaneira que tomaram a vacina Pfizer: 9.0\n"
     ]
    }
   ],
   "source": [
    "# Encontrar o valor mínimo de idade\n",
    "valor_minimo = tabela_filtrada['paciente_idade'].min()\n",
    "\n",
    "print(valor_minimo)\n",
    "\n",
    "# Encontrar o valor máximo de idade\n",
    "valor_maximo = tabela_filtrada['paciente_idade'].max()\n",
    "\n",
    "print(valor_maximo)\n",
    "\n",
    "# Calcular a amplitude\n",
    "amplitude = (valor_maximo - valor_minimo) / numero_classes\n",
    "\n",
    "# Arredonda para cima com uma casa decimal\n",
    "amplitude = math.ceil(amplitude * 10) / 10\n",
    "\n",
    "#Exibe amplitude\n",
    "print(\"Amplitude da idade dos pacientes de Altaneira que tomaram a vacina Pfizer:\", amplitude)"
   ]
  },
  {
   "cell_type": "code",
   "execution_count": 13,
   "metadata": {},
   "outputs": [
    {
     "name": "stdout",
     "output_type": "stream",
     "text": [
      "Distribuição de Frequência da Idade dos Pacientes de Altaneira que Tomaram a Vacina Pfizer:\n",
      "   Intervalo de Idade  Frequência  Frequência Acumulada  Frequência Relativa  Frequência Relativa (%)  Ponto Médio\n",
      "1        [11.0, 20.0)         397                   397                0.214                     21.4         15.5\n",
      "2        [20.0, 29.0)         332                   729                0.179                     17.9         24.5\n",
      "3        [29.0, 38.0)         260                   989                0.140                     14.0         33.5\n",
      "4        [38.0, 47.0)         217                  1206                0.117                     11.7         42.5\n",
      "5        [47.0, 56.0)         178                  1384                0.096                      9.6         51.5\n",
      "6        [56.0, 65.0)         140                  1524                0.075                      7.5         60.5\n",
      "7        [65.0, 74.0)         152                  1676                0.082                      8.2         69.5\n",
      "8        [74.0, 83.0)         138                  1814                0.074                      7.4         78.5\n",
      "9        [83.0, 92.0)          37                  1851                0.020                      2.0         87.5\n",
      "10      [92.0, 101.0)           6                  1857                0.003                      0.3         96.5\n",
      "11     [101.0, 110.0)           1                  1858                0.001                      0.1        105.5\n"
     ]
    }
   ],
   "source": [
    "# Criar os intervalos das classes\n",
    "intervalos = [valor_minimo + i * amplitude for i in range(numero_classes)]\n",
    "\n",
    "# Calcular o limite superior do último intervalo\n",
    "limite_superior_ultimo_intervalo = intervalos[-1] + amplitude\n",
    "\n",
    "# Adicionar o último intervalo corretamente\n",
    "intervalos.append(limite_superior_ultimo_intervalo)\n",
    "\n",
    "# Criar a tabela de distribuição de frequência\n",
    "tabela_frequencia = pd.cut(tabela_filtrada['paciente_idade'], bins=intervalos, right=False, include_lowest=True).value_counts().reset_index()\n",
    "tabela_frequencia.columns = ['Intervalo de Idade', 'Frequência']\n",
    "\n",
    "# Ordenar a tabela por intervalo de idade\n",
    "tabela_frequencia = tabela_frequencia.sort_values(by='Intervalo de Idade')\n",
    "\n",
    "# Calcular a frequência acumulada\n",
    "tabela_frequencia['Frequência Acumulada'] = tabela_frequencia['Frequência'].cumsum()\n",
    "\n",
    "# Calcular a frequência relativa\n",
    "total_pacientes = tabela_frequencia['Frequência'].sum()\n",
    "tabela_frequencia['Frequência Relativa'] = (tabela_frequencia['Frequência'] / total_pacientes).round(3)\n",
    "\n",
    "# Calcular a frequência relativa em porcentagem\n",
    "tabela_frequencia['Frequência Relativa (%)'] = (tabela_frequencia['Frequência Relativa'] * 100).round(3)\n",
    "\n",
    "# Calcular a frequência relativa acumulada\n",
    "# tabela_frequencia['Frequência Relativa Acumulada'] = (tabela_frequencia['Frequência Relativa'].cumsum()).round(3)\n",
    "\n",
    "# Calcular a frequência relativa acumulada em porcentagem\n",
    "#tabela_frequencia['Frequência Relativa Acumulada (%)'] = (tabela_frequencia['Frequência Relativa Acumulada'] * 100).round(3)\n",
    "\n",
    "# Calcular o ponto médio\n",
    "tabela_frequencia['Ponto Médio'] = [round((intervalo.left + intervalo.right) / 2, 3) for intervalo in tabela_frequencia['Intervalo de Idade']]\n",
    "\n",
    "# Ajustar o índice da tabela para começar em 1\n",
    "tabela_frequencia.index = range(1, len(tabela_frequencia) + 1)\n",
    "\n",
    "# Exibir a tabela de distribuição de frequência \n",
    "print(\"Distribuição de Frequência da Idade dos Pacientes de Altaneira que Tomaram a Vacina Pfizer:\")\n",
    "pd.set_option('display.max_columns', None)  # Para exibir todas as colunas\n",
    "pd.set_option('display.expand_frame_repr', False)  # Para evitar quebras de linha\n",
    "print(tabela_frequencia)"
   ]
  },
  {
   "cell_type": "code",
   "execution_count": 14,
   "metadata": {},
   "outputs": [
    {
     "name": "stdout",
     "output_type": "stream",
     "text": [
      "Média:  39.8\n",
      "Mediana:  35.0\n",
      "Moda:  16.0\n"
     ]
    }
   ],
   "source": [
    "# Média\n",
    "media = round(tabela_filtrada['paciente_idade'].mean(), 1)\n",
    "print(\"Média: \", media)\n",
    "\n",
    "# Mediana \n",
    "mediana = round(tabela_filtrada['paciente_idade'].median(), 1)\n",
    "print(\"Mediana: \", mediana)\n",
    "\n",
    "# Moda\n",
    "moda = tabela_filtrada['paciente_idade'].mode().iloc[0]\n",
    "print(\"Moda: \", moda)"
   ]
  },
  {
   "cell_type": "code",
   "execution_count": 51,
   "metadata": {},
   "outputs": [
    {
     "name": "stdout",
     "output_type": "stream",
     "text": [
      "Média:  40.5\n",
      "Classe da mediana:  3\n",
      "Limite Inferior da Classe Mediana: 29.0\n",
      "Frequencia anterior: 729\n",
      "Mediana:  35.92\n"
     ]
    }
   ],
   "source": [
    "# Média considerando a distribuição de frequência\n",
    "media_df = round(sum(tabela_frequencia['Ponto Médio'] * tabela_frequencia['Frequência']) / sum(tabela_frequencia['Frequência']), 1)\n",
    "print(\"Média: \", media_df)\n",
    "\n",
    "# Mediana considerando a distribuição de frequência\n",
    "classe_mediana = sum(tabela_frequencia['Frequência']) / 2\n",
    "\n",
    "index = 1\n",
    "frequencia = 0\n",
    "for i, row in tabela_frequencia.iterrows():\n",
    "    if row['Frequência Acumulada'] < classe_mediana:\n",
    "        index +=1\n",
    "    if i == 3:\n",
    "        frequencia = row['Frequência']\n",
    "print(\"Classe da mediana: \", index)\n",
    "\n",
    "limite_inferior_classe_mediana = tabela_frequencia['Intervalo de Idade'][index].left\n",
    "print(\"Limite Inferior da Classe Mediana:\", limite_inferior_classe_mediana)\n",
    "\n",
    "frequencia_anterior = 0\n",
    "for i, row in tabela_frequencia.iterrows():\n",
    "    if row['Frequência Acumulada'] < classe_mediana:\n",
    "        frequencia_anterior = row['Frequência Acumulada']\n",
    "print('Frequencia anterior:',frequencia_anterior)\n",
    "\n",
    "formula_mediana = limite_inferior_classe_mediana + ((classe_mediana - frequencia_anterior) / frequencia) * amplitude \n",
    "print(\"Mediana: \", round(formula_mediana, 2))\n"
   ]
  }
 ],
 "metadata": {
  "kernelspec": {
   "display_name": "Python 3",
   "language": "python",
   "name": "python3"
  },
  "language_info": {
   "codemirror_mode": {
    "name": "ipython",
    "version": 3
   },
   "file_extension": ".py",
   "mimetype": "text/x-python",
   "name": "python",
   "nbconvert_exporter": "python",
   "pygments_lexer": "ipython3",
   "version": "3.10.8"
  },
  "orig_nbformat": 4
 },
 "nbformat": 4,
 "nbformat_minor": 2
}
