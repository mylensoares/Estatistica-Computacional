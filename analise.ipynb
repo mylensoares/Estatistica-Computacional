{
 "cells": [
  {
   "cell_type": "code",
   "execution_count": 1,
   "metadata": {},
   "outputs": [
    {
     "name": "stderr",
     "output_type": "stream",
     "text": [
      "C:\\Users\\mylen\\AppData\\Local\\Temp\\ipykernel_14024\\11467667.py:7: FutureWarning: The error_bad_lines argument has been deprecated and will be removed in a future version. Use on_bad_lines in the future.\n",
      "\n",
      "\n",
      "  dados = pd.read_csv(caminho_arquivo_csv, delimiter=';', error_bad_lines=False)\n",
      "C:\\Users\\mylen\\AppData\\Local\\Temp\\ipykernel_14024\\11467667.py:7: DtypeWarning: Columns (7,8) have mixed types. Specify dtype option on import or set low_memory=False.\n",
      "  dados = pd.read_csv(caminho_arquivo_csv, delimiter=';', error_bad_lines=False)\n"
     ]
    }
   ],
   "source": [
    "import pandas as pd\n",
    "import numpy as np\n",
    "import math\n",
    "\n",
    "# Realiza a lietura do arquivo CSV\n",
    "caminho_arquivo_csv = 'C:\\\\Users\\\\mylen\\\\OneDrive\\\\Documentos\\\\IFCE\\\\5 Semestre\\\\Estatística\\\\Trabalho N1\\\\CE pt 1.csv'\n",
    "dados = pd.read_csv(caminho_arquivo_csv, delimiter=';', error_bad_lines=False)\n",
    "\n",
    "#Exibir a tabela\n",
    "dados\n"
   ]
  },
  {
   "cell_type": "code",
   "execution_count": 3,
   "metadata": {},
   "outputs": [],
   "source": [
    "# Realiza a listagem todos os municipios presentes na tabela\n",
    "municipios_unicos = dados['paciente_endereco_nmMunicipio'].unique()\n",
    "\n",
    "# Tranforma em lista\n",
    "municipios_unicos_lista = list(municipios_unicos)\n",
    "\n",
    "# Exibe todos os municipios \n",
    "# municipios_unicos_lista"
   ]
  },
  {
   "cell_type": "code",
   "execution_count": 4,
   "metadata": {},
   "outputs": [],
   "source": [
    "# Filtrar os dados para pacientes do município de Altaneira que tomaram a vacina Pfizer\n",
    "filtro_altaneira_pfizer = (dados['paciente_endereco_nmMunicipio'] == 'ALTANEIRA') & (dados['vacina_fabricante_nome'] == 'PFIZER')\n",
    "\n",
    "# Aplicar o filtro aos dados\n",
    "tabela_filtrada = dados[filtro_altaneira_pfizer]\n",
    "\n",
    "# Exibe a tabela filtrada\n",
    "# pd.set_option('display.max_rows', None)\n",
    "# print(tabela_filtrada['paciente_idade'])"
   ]
  },
  {
   "cell_type": "code",
   "execution_count": 6,
   "metadata": {},
   "outputs": [
    {
     "name": "stdout",
     "output_type": "stream",
     "text": [
      "Número de classes estimado usando a Regra de Sturges: 11\n"
     ]
    }
   ],
   "source": [
    "# Ordena a tabela por idade de forma crescente\n",
    "tabela_filtrada = tabela_filtrada.sort_values(by='paciente_idade')\n",
    "\n",
    "# Calcula o tamanho da amostra\n",
    "tamanho_amostra = len(tabela_filtrada)\n",
    "\n",
    "# Calcula o número de classes usando a Regra de Sturges\n",
    "numero_classes = 1 + int(3.3 * np.log10(tamanho_amostra))\n",
    "\n",
    "# Exibir o número de classes estimado\n",
    "print(\"Número de classes estimado usando a Regra de Sturges:\", numero_classes)\n"
   ]
  },
  {
   "cell_type": "code",
   "execution_count": 9,
   "metadata": {},
   "outputs": [
    {
     "name": "stdout",
     "output_type": "stream",
     "text": [
      "11.0\n",
      "109.0\n",
      "Amplitude da idade dos pacientes de Altaneira que tomaram a vacina Pfizer: 9.0\n"
     ]
    }
   ],
   "source": [
    "# Encontra o valor mínimo de idade\n",
    "valor_minimo = tabela_filtrada['paciente_idade'].min()\n",
    "\n",
    "print(valor_minimo)\n",
    "\n",
    "# Encontra o valor máximo de idade\n",
    "valor_maximo = tabela_filtrada['paciente_idade'].max()\n",
    "\n",
    "print(valor_maximo)\n",
    "\n",
    "# Calcula a amplitude\n",
    "amplitude = (valor_maximo - valor_minimo) / numero_classes\n",
    "\n",
    "# Arredonda para cima com uma casa decimal\n",
    "amplitude = math.ceil(amplitude * 10) / 10\n",
    "\n",
    "#Exibe amplitude\n",
    "print(\"Amplitude da idade dos pacientes de Altaneira que tomaram a vacina Pfizer:\", amplitude)"
   ]
  },
  {
   "cell_type": "code",
   "execution_count": 17,
   "metadata": {},
   "outputs": [
    {
     "name": "stdout",
     "output_type": "stream",
     "text": [
      "Distribuição de Frequência da Idade dos Pacientes de Altaneira que Tomaram a Vacina Pfizer:\n",
      "   Intervalo de Idade  Frequência  Frequência Acumulada  Frequência Relativa  Frequência Relativa (%)  Frequência Relativa Acumulada  Ponto Médio\n",
      "1        [11.0, 20.0)         397                   397                0.214                     21.4                          0.214         15.5\n",
      "2        [20.0, 29.0)         332                   729                0.179                     17.9                          0.393         24.5\n",
      "3        [29.0, 38.0)         260                   989                0.140                     14.0                          0.533         33.5\n",
      "4        [38.0, 47.0)         217                  1206                0.117                     11.7                          0.650         42.5\n",
      "5        [47.0, 56.0)         178                  1384                0.096                      9.6                          0.746         51.5\n",
      "6        [56.0, 65.0)         140                  1524                0.075                      7.5                          0.821         60.5\n",
      "7        [65.0, 74.0)         152                  1676                0.082                      8.2                          0.903         69.5\n",
      "8        [74.0, 83.0)         138                  1814                0.074                      7.4                          0.977         78.5\n",
      "9        [83.0, 92.0)          37                  1851                0.020                      2.0                          0.997         87.5\n",
      "10      [92.0, 101.0)           6                  1857                0.003                      0.3                          1.000         96.5\n",
      "11     [101.0, 110.0)           1                  1858                0.001                      0.1                          1.001        105.5\n"
     ]
    }
   ],
   "source": [
    "# Cria os intervalos das classes\n",
    "intervalos = [valor_minimo + i * amplitude for i in range(numero_classes)]\n",
    "\n",
    "# Calcula o limite superior do último intervalo\n",
    "limite_superior_ultimo_intervalo = intervalos[-1] + amplitude\n",
    "\n",
    "# Adiciona o último intervalo corretamente\n",
    "intervalos.append(limite_superior_ultimo_intervalo)\n",
    "\n",
    "# Cria a tabela de distribuição de frequência\n",
    "tabela_frequencia = pd.cut(tabela_filtrada['paciente_idade'], bins=intervalos, right=False, include_lowest=True).value_counts().reset_index()\n",
    "tabela_frequencia.columns = ['Intervalo de Idade', 'Frequência']\n",
    "\n",
    "# Ordena a tabela por intervalo de idade\n",
    "tabela_frequencia = tabela_frequencia.sort_values(by='Intervalo de Idade')\n",
    "\n",
    "# Calcula a frequência acumulada\n",
    "tabela_frequencia['Frequência Acumulada'] = tabela_frequencia['Frequência'].cumsum()\n",
    "\n",
    "# Calcula a frequência relativa\n",
    "total_pacientes = tabela_frequencia['Frequência'].sum()\n",
    "tabela_frequencia['Frequência Relativa'] = (tabela_frequencia['Frequência'] / total_pacientes).round(3)\n",
    "\n",
    "# Calcula a frequência relativa em porcentagem\n",
    "tabela_frequencia['Frequência Relativa (%)'] = (tabela_frequencia['Frequência Relativa'] * 100).round(3)\n",
    "\n",
    "# Calcula a frequência relativa acumulada\n",
    "tabela_frequencia['Frequência Relativa Acumulada'] = (tabela_frequencia['Frequência Relativa'].cumsum()).round(3)\n",
    "\n",
    "# Calcula a frequência relativa acumulada em porcentagem\n",
    "#tabela_frequencia['Frequência Relativa Acumulada (%)'] = (tabela_frequencia['Frequência Relativa Acumulada'] * 100).round(3)\n",
    "\n",
    "# Calcula o ponto médio\n",
    "tabela_frequencia['Ponto Médio'] = [round((intervalo.left + intervalo.right) / 2, 3) for intervalo in tabela_frequencia['Intervalo de Idade']]\n",
    "\n",
    "# Ajusta o índice da tabela para começar em 1\n",
    "tabela_frequencia.index = range(1, len(tabela_frequencia) + 1)\n",
    "\n",
    "# Exibi a tabela de distribuição de frequência \n",
    "print(\"Distribuição de Frequência da Idade dos Pacientes de Altaneira que Tomaram a Vacina Pfizer:\")\n",
    "pd.set_option('display.max_columns', None)  # Para exibir todas as colunas\n",
    "pd.set_option('display.expand_frame_repr', False)  # Para evitar quebras de linha\n",
    "print(tabela_frequencia)"
   ]
  },
  {
   "cell_type": "code",
   "execution_count": 12,
   "metadata": {},
   "outputs": [
    {
     "name": "stdout",
     "output_type": "stream",
     "text": [
      "Média:  39.8\n",
      "Mediana:  35.0\n",
      "Moda:  16.0\n"
     ]
    }
   ],
   "source": [
    "# Calcula a Média\n",
    "media = round(tabela_filtrada['paciente_idade'].mean(), 1)\n",
    "print(\"Média: \", media)\n",
    "\n",
    "# Calcula a Mediana \n",
    "mediana = round(tabela_filtrada['paciente_idade'].median(), 1)\n",
    "print(\"Mediana: \", mediana)\n",
    "\n",
    "# Calcula Moda\n",
    "moda = tabela_filtrada['paciente_idade'].mode().iloc[0]\n",
    "print(\"Moda: \", moda)"
   ]
  },
  {
   "cell_type": "code",
   "execution_count": 15,
   "metadata": {},
   "outputs": [
    {
     "name": "stdout",
     "output_type": "stream",
     "text": [
      "Média:  40.5\n",
      "Mediana:  35.92\n",
      "Moda: 15.5\n"
     ]
    }
   ],
   "source": [
    "# Calcula a média considerando a distribuição de frequência\n",
    "media_df = round(sum(tabela_frequencia['Ponto Médio'] * tabela_frequencia['Frequência']) / sum(tabela_frequencia['Frequência']), 1)\n",
    "print(\"Média: \", media_df)\n",
    "\n",
    "# Calcula a mediana considerando a distribuição de frequência\n",
    "classe_mediana = sum(tabela_frequencia['Frequência']) / 2\n",
    "\n",
    "index = 1\n",
    "frequencia = 0\n",
    "for i, row in tabela_frequencia.iterrows():\n",
    "    if row['Frequência Acumulada'] < classe_mediana:\n",
    "        index +=1\n",
    "    if i == 3:\n",
    "        frequencia = row['Frequência']\n",
    "\n",
    "limite_inferior_classe_mediana = tabela_frequencia['Intervalo de Idade'][index].left\n",
    "\n",
    "frequencia_anterior = 0\n",
    "for i, row in tabela_frequencia.iterrows():\n",
    "    if row['Frequência Acumulada'] < classe_mediana:\n",
    "        frequencia_anterior = row['Frequência Acumulada']\n",
    "\n",
    "formula_mediana = limite_inferior_classe_mediana + ((classe_mediana - frequencia_anterior) / frequencia) * amplitude \n",
    "print(\"Mediana: \", round(formula_mediana, 2))\n",
    "\n",
    "# Calcula a classe modal (classe com a frequência mais alta)\n",
    "classe_modal_idx = tabela_frequencia['Frequência'].idxmax()\n",
    "\n",
    "# Calcula os imites da classe modal\n",
    "limite_inferior_modal = tabela_frequencia['Intervalo de Idade'][classe_modal_idx].left\n",
    "limite_superior_modal = tabela_frequencia['Intervalo de Idade'][classe_modal_idx].right\n",
    "\n",
    "# A moda é o ponto médio da classe modal\n",
    "moda = (limite_inferior_modal + limite_superior_modal) / 2\n",
    "\n",
    "print(\"Moda:\", moda)"
   ]
  },
  {
   "cell_type": "code",
   "execution_count": 20,
   "metadata": {},
   "outputs": [
    {
     "name": "stdout",
     "output_type": "stream",
     "text": [
      "Quartil de ordem 1 (Q1): 21.0\n",
      "Quartil de ordem 3 (Q3): 56.0\n"
     ]
    }
   ],
   "source": [
    "# Calcula quartil de ordem 1 (Q1)\n",
    "q1 = tabela_filtrada['paciente_idade'].quantile(0.25)\n",
    "\n",
    "# Calcula quartil de ordem 3 (Q3)\n",
    "q3 = tabela_filtrada['paciente_idade'].quantile(0.75)\n",
    "\n",
    "print(\"Quartil de ordem 1 (Q1):\", q1)\n",
    "print(\"Quartil de ordem 3 (Q3):\", q3)\n"
   ]
  },
  {
   "cell_type": "code",
   "execution_count": 23,
   "metadata": {},
   "outputs": [
    {
     "name": "stdout",
     "output_type": "stream",
     "text": [
      "Quartil de ordem 1 (Q1): 12.83\n",
      "Quartil de ordem 3 (Q3): 54.78\n"
     ]
    }
   ],
   "source": [
    "# Calcula o quartil de ordem 1 (Q1) com distribuição de frequência\n",
    "k1 = 1\n",
    "N = tabela_frequencia['Frequência'].sum()\n",
    "F1 = tabela_frequencia['Frequência Acumulada'].iloc[k1 - 1]\n",
    "h = tabela_frequencia['Intervalo de Idade'].iloc[0].right - tabela_frequencia['Intervalo de Idade'].iloc[0].left\n",
    "f1 = tabela_frequencia['Frequência'].iloc[k1]\n",
    "Q1 = tabela_frequencia['Intervalo de Idade'].iloc[0].left + ((k1 * N / 4 - F1) * h / f1)\n",
    "\n",
    "# Calcula o quartil de ordem 3 (Q3) com distribuição de frequência\n",
    "k3 = 3\n",
    "F3 = tabela_frequencia['Frequência Acumulada'].iloc[k3 - 1]\n",
    "f3 = tabela_frequencia['Frequência'].iloc[k3]\n",
    "Q3 = tabela_frequencia['Intervalo de Idade'].iloc[k3].left + ((k3 * N / 4 - F3) * h / f3)\n",
    "\n",
    "print(\"Quartil de ordem 1 (Q1):\", round(Q1, 2))\n",
    "print(\"Quartil de ordem 3 (Q3):\", round(Q3, 2))\n",
    "\n"
   ]
  },
  {
   "cell_type": "code",
   "execution_count": 31,
   "metadata": {},
   "outputs": [
    {
     "name": "stdout",
     "output_type": "stream",
     "text": [
      "Existem outliers na coluna de idade:\n",
      "109.0\n"
     ]
    }
   ],
   "source": [
    "# Calcula os  quartis sem utilizar frequência\n",
    "Q1 = tabela_filtrada['paciente_idade'].quantile(0.25)\n",
    "Q3 = tabela_filtrada['paciente_idade'].quantile(0.75)\n",
    "IQR = Q3 - Q1\n",
    "\n",
    "# Calcula os limites para outliers\n",
    "limite_inferior_outliers = Q1 - 1.5 * IQR\n",
    "limite_superior_outliers = Q3 + 1.5 * IQR\n",
    "\n",
    "# Verifica se existem outliers na coluna de idade\n",
    "outliers = tabela_filtrada[(tabela_filtrada['paciente_idade'] < limite_inferior_outliers) | \n",
    "                           (tabela_filtrada['paciente_idade'] > limite_superior_outliers)]\n",
    "\n",
    "# Appresenta o resultado do cálculo dos Pontos outliers\n",
    "if not outliers.empty:\n",
    "    print(\"Existem outliers na coluna de idade:\")\n",
    "    print(outliers['paciente_idade'].iloc[0])\n",
    "else:\n",
    "    print(\"Não existem outliers na coluna de idade.\")\n"
   ]
  },
  {
   "cell_type": "code",
   "execution_count": 37,
   "metadata": {},
   "outputs": [
    {
     "name": "stdout",
     "output_type": "stream",
     "text": [
      "Desvio Padrão da Idade:  21.41\n",
      "Variância da Idade:  458.32\n",
      "Coeficiente de Variação da Idade: 53.79\n"
     ]
    }
   ],
   "source": [
    "# Calcula o número de observações\n",
    "N = len(tabela_filtrada['paciente_idade'])\n",
    "\n",
    "# Calcula a média da coluna de idade\n",
    "media_idade = tabela_filtrada['paciente_idade'].mean()\n",
    "\n",
    "# Calcula a soma dos quadrados das diferenças entre cada idade e a média\n",
    "soma_quadrados_diferencas = sum((x - media_idade) ** 2 for x in tabela_filtrada['paciente_idade'])\n",
    "\n",
    "# Calcula o desvio padrão populacional\n",
    "desvio_padrao = (soma_quadrados_diferencas / N) ** 0.5\n",
    "\n",
    "print(\"Desvio Padrão da Idade: \", round(desvio_padrao, 2))\n",
    "\n",
    "# Calcula a Variância\n",
    "variancia = desvio_padrao ** 2\n",
    "\n",
    "print(\"Variância da Idade: \", round(variancia, 2))\n",
    "\n",
    "# Calcula o coeficiente de variação\n",
    "coeficiente_variacao = (desvio_padrao / media) * 100\n",
    "\n",
    "print(\"Coeficiente de Variação da Idade:\", round(coeficiente_variacao, 2))"
   ]
  },
  {
   "cell_type": "code",
   "execution_count": 41,
   "metadata": {},
   "outputs": [
    {
     "name": "stdout",
     "output_type": "stream",
     "text": [
      "Desvio Padrão considerando a distribuição de frequência: 21.5\n",
      "Variância considerando a distribuição de frequência: 462.15\n",
      "Coeficiente de variação considerando a distribuição de frequência: 53.08\n"
     ]
    }
   ],
   "source": [
    "# Calcula o desvio padrão considerando a distribuição de frequência\n",
    "desvio_padrao_distribuicao = np.sqrt(np.sum(((tabela_frequencia['Ponto Médio'] - media_df) ** 2) * tabela_frequencia['Frequência Relativa']))\n",
    "\n",
    "print(\"Desvio Padrão considerando a distribuição de frequência:\", round(desvio_padrao_distribuicao, 2))\n",
    "\n",
    "variancia_distribuicao = desvio_padrao_distribuicao ** 2\n",
    "print(\"Variância considerando a distribuição de frequência:\", round(variancia_distribuicao, 2))\n",
    "\n",
    "coeficiente_variacao_distribuicao = (desvio_padrao_distribuicao / media_df) * 100\n",
    "print(\"Coeficiente de variação considerando a distribuição de frequência:\", round(coeficiente_variacao_distribuicao, 2))\n"
   ]
  },
  {
   "cell_type": "code",
   "execution_count": 43,
   "metadata": {},
   "outputs": [
    {
     "name": "stdout",
     "output_type": "stream",
     "text": [
      "Assimetria: 0.56\n",
      "Curtose: -0.82\n",
      "A distribuição não é normal.\n"
     ]
    }
   ],
   "source": [
    "from scipy.stats import skew, kurtosis\n",
    "\n",
    "# Calcula assimetria e curtose\n",
    "assimetria = skew(tabela_filtrada['paciente_idade'])\n",
    "curtose = kurtosis(tabela_filtrada['paciente_idade'])\n",
    "\n",
    "print(\"Assimetria:\", round(assimetria, 2))\n",
    "print(\"Curtose:\", round(curtose, 2))\n",
    "\n",
    "# Verifica se a distribuição é normal\n",
    "if -0.5 < assimetria < 0.5 and -0.5 < curtose < 0.5:\n",
    "    print(\"A distribuição é aproximadamente normal.\")\n",
    "else:\n",
    "    print(\"A distribuição não é normal.\")"
   ]
  }
 ],
 "metadata": {
  "kernelspec": {
   "display_name": "Python 3",
   "language": "python",
   "name": "python3"
  },
  "language_info": {
   "codemirror_mode": {
    "name": "ipython",
    "version": 3
   },
   "file_extension": ".py",
   "mimetype": "text/x-python",
   "name": "python",
   "nbconvert_exporter": "python",
   "pygments_lexer": "ipython3",
   "version": "3.10.8"
  },
  "orig_nbformat": 4
 },
 "nbformat": 4,
 "nbformat_minor": 2
}
